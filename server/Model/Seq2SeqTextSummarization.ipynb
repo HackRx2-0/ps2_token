{
  "nbformat": 4,
  "nbformat_minor": 0,
  "metadata": {
    "colab": {
      "name": "Seq2SeqTextSummarization.ipynb",
      "provenance": [],
      "collapsed_sections": []
    },
    "kernelspec": {
      "name": "python3",
      "display_name": "Python 3"
    },
    "language_info": {
      "name": "python"
    }
  },
  "cells": [
    {
      "cell_type": "code",
      "metadata": {
        "id": "Bqwp7Z-8xDPN"
      },
      "source": [
        "import numpy as np \n",
        "import pandas as pd"
      ],
      "execution_count": 133,
      "outputs": []
    },
    {
      "cell_type": "code",
      "metadata": {
        "colab": {
          "base_uri": "https://localhost:8080/",
          "height": 203
        },
        "id": "eFhTwOYdxocc",
        "outputId": "69e18c59-d6d5-4b74-a755-ed84c14b3e9e"
      },
      "source": [
        "summary = pd.read_csv(\"message_summary.csv\",encoding='iso-8859-1')\n",
        "summary.head()"
      ],
      "execution_count": 134,
      "outputs": [
        {
          "output_type": "execute_result",
          "data": {
            "text/html": [
              "<div>\n",
              "<style scoped>\n",
              "    .dataframe tbody tr th:only-of-type {\n",
              "        vertical-align: middle;\n",
              "    }\n",
              "\n",
              "    .dataframe tbody tr th {\n",
              "        vertical-align: top;\n",
              "    }\n",
              "\n",
              "    .dataframe thead th {\n",
              "        text-align: right;\n",
              "    }\n",
              "</style>\n",
              "<table border=\"1\" class=\"dataframe\">\n",
              "  <thead>\n",
              "    <tr style=\"text-align: right;\">\n",
              "      <th></th>\n",
              "      <th>headline</th>\n",
              "      <th>text</th>\n",
              "    </tr>\n",
              "  </thead>\n",
              "  <tbody>\n",
              "    <tr>\n",
              "      <th>0</th>\n",
              "      <td>buy best budget phone</td>\n",
              "      <td>I need to buy best budget phone</td>\n",
              "    </tr>\n",
              "    <tr>\n",
              "      <th>1</th>\n",
              "      <td>buy best budget phone</td>\n",
              "      <td>I need to buy best budget phone</td>\n",
              "    </tr>\n",
              "    <tr>\n",
              "      <th>2</th>\n",
              "      <td>buy best budget phone</td>\n",
              "      <td>I need to buy best budget phone</td>\n",
              "    </tr>\n",
              "    <tr>\n",
              "      <th>3</th>\n",
              "      <td>buy best budget phone</td>\n",
              "      <td>I need to buy best budget phone</td>\n",
              "    </tr>\n",
              "    <tr>\n",
              "      <th>4</th>\n",
              "      <td>buy best budget phone</td>\n",
              "      <td>I need to buy best budget phone</td>\n",
              "    </tr>\n",
              "  </tbody>\n",
              "</table>\n",
              "</div>"
            ],
            "text/plain": [
              "                headline                             text\n",
              "0  buy best budget phone  I need to buy best budget phone\n",
              "1  buy best budget phone  I need to buy best budget phone\n",
              "2  buy best budget phone  I need to buy best budget phone\n",
              "3  buy best budget phone  I need to buy best budget phone\n",
              "4  buy best budget phone  I need to buy best budget phone"
            ]
          },
          "metadata": {
            "tags": []
          },
          "execution_count": 134
        }
      ]
    },
    {
      "cell_type": "code",
      "metadata": {
        "colab": {
          "base_uri": "https://localhost:8080/",
          "height": 203
        },
        "id": "tSyzMy3DxwjK",
        "outputId": "83c75c05-2615-452c-e5f4-8154dc2e3e47"
      },
      "source": [
        "raw = pd.read_csv('message_summary.csv', encoding='iso-8859-1')\n",
        "raw.head()"
      ],
      "execution_count": 135,
      "outputs": [
        {
          "output_type": "execute_result",
          "data": {
            "text/html": [
              "<div>\n",
              "<style scoped>\n",
              "    .dataframe tbody tr th:only-of-type {\n",
              "        vertical-align: middle;\n",
              "    }\n",
              "\n",
              "    .dataframe tbody tr th {\n",
              "        vertical-align: top;\n",
              "    }\n",
              "\n",
              "    .dataframe thead th {\n",
              "        text-align: right;\n",
              "    }\n",
              "</style>\n",
              "<table border=\"1\" class=\"dataframe\">\n",
              "  <thead>\n",
              "    <tr style=\"text-align: right;\">\n",
              "      <th></th>\n",
              "      <th>headline</th>\n",
              "      <th>text</th>\n",
              "    </tr>\n",
              "  </thead>\n",
              "  <tbody>\n",
              "    <tr>\n",
              "      <th>0</th>\n",
              "      <td>buy best budget phone</td>\n",
              "      <td>I need to buy best budget phone</td>\n",
              "    </tr>\n",
              "    <tr>\n",
              "      <th>1</th>\n",
              "      <td>buy best budget phone</td>\n",
              "      <td>I need to buy best budget phone</td>\n",
              "    </tr>\n",
              "    <tr>\n",
              "      <th>2</th>\n",
              "      <td>buy best budget phone</td>\n",
              "      <td>I need to buy best budget phone</td>\n",
              "    </tr>\n",
              "    <tr>\n",
              "      <th>3</th>\n",
              "      <td>buy best budget phone</td>\n",
              "      <td>I need to buy best budget phone</td>\n",
              "    </tr>\n",
              "    <tr>\n",
              "      <th>4</th>\n",
              "      <td>buy best budget phone</td>\n",
              "      <td>I need to buy best budget phone</td>\n",
              "    </tr>\n",
              "  </tbody>\n",
              "</table>\n",
              "</div>"
            ],
            "text/plain": [
              "                headline                             text\n",
              "0  buy best budget phone  I need to buy best budget phone\n",
              "1  buy best budget phone  I need to buy best budget phone\n",
              "2  buy best budget phone  I need to buy best budget phone\n",
              "3  buy best budget phone  I need to buy best budget phone\n",
              "4  buy best budget phone  I need to buy best budget phone"
            ]
          },
          "metadata": {
            "tags": []
          },
          "execution_count": 135
        }
      ]
    },
    {
      "cell_type": "code",
      "metadata": {
        "id": "tLBe0hTox5vt"
      },
      "source": [
        "pre1 =  raw.iloc[:,0:2].copy()\n",
        "pre1['headline + text'] = pre1['headline'].str.cat(pre1['text'], sep =\" \")"
      ],
      "execution_count": 136,
      "outputs": []
    },
    {
      "cell_type": "code",
      "metadata": {
        "colab": {
          "base_uri": "https://localhost:8080/",
          "height": 203
        },
        "id": "VJYLbY2OyD1m",
        "outputId": "028a250d-24c3-48e0-9d5f-5fb648fbdaf0"
      },
      "source": [
        "pre1.head()"
      ],
      "execution_count": 137,
      "outputs": [
        {
          "output_type": "execute_result",
          "data": {
            "text/html": [
              "<div>\n",
              "<style scoped>\n",
              "    .dataframe tbody tr th:only-of-type {\n",
              "        vertical-align: middle;\n",
              "    }\n",
              "\n",
              "    .dataframe tbody tr th {\n",
              "        vertical-align: top;\n",
              "    }\n",
              "\n",
              "    .dataframe thead th {\n",
              "        text-align: right;\n",
              "    }\n",
              "</style>\n",
              "<table border=\"1\" class=\"dataframe\">\n",
              "  <thead>\n",
              "    <tr style=\"text-align: right;\">\n",
              "      <th></th>\n",
              "      <th>headline</th>\n",
              "      <th>text</th>\n",
              "      <th>headline + text</th>\n",
              "    </tr>\n",
              "  </thead>\n",
              "  <tbody>\n",
              "    <tr>\n",
              "      <th>0</th>\n",
              "      <td>buy best budget phone</td>\n",
              "      <td>I need to buy best budget phone</td>\n",
              "      <td>buy best budget phone I need to buy best budget phone</td>\n",
              "    </tr>\n",
              "    <tr>\n",
              "      <th>1</th>\n",
              "      <td>buy best budget phone</td>\n",
              "      <td>I need to buy best budget phone</td>\n",
              "      <td>buy best budget phone I need to buy best budget phone</td>\n",
              "    </tr>\n",
              "    <tr>\n",
              "      <th>2</th>\n",
              "      <td>buy best budget phone</td>\n",
              "      <td>I need to buy best budget phone</td>\n",
              "      <td>buy best budget phone I need to buy best budget phone</td>\n",
              "    </tr>\n",
              "    <tr>\n",
              "      <th>3</th>\n",
              "      <td>buy best budget phone</td>\n",
              "      <td>I need to buy best budget phone</td>\n",
              "      <td>buy best budget phone I need to buy best budget phone</td>\n",
              "    </tr>\n",
              "    <tr>\n",
              "      <th>4</th>\n",
              "      <td>buy best budget phone</td>\n",
              "      <td>I need to buy best budget phone</td>\n",
              "      <td>buy best budget phone I need to buy best budget phone</td>\n",
              "    </tr>\n",
              "  </tbody>\n",
              "</table>\n",
              "</div>"
            ],
            "text/plain": [
              "                headline  ...                                        headline + text\n",
              "0  buy best budget phone  ...  buy best budget phone I need to buy best budget phone\n",
              "1  buy best budget phone  ...  buy best budget phone I need to buy best budget phone\n",
              "2  buy best budget phone  ...  buy best budget phone I need to buy best budget phone\n",
              "3  buy best budget phone  ...  buy best budget phone I need to buy best budget phone\n",
              "4  buy best budget phone  ...  buy best budget phone I need to buy best budget phone\n",
              "\n",
              "[5 rows x 3 columns]"
            ]
          },
          "metadata": {
            "tags": []
          },
          "execution_count": 137
        }
      ]
    },
    {
      "cell_type": "code",
      "metadata": {
        "id": "58FeVj_-yIUR"
      },
      "source": [
        "pre2 = summary.iloc[:,0:6].copy()\n",
        "pre2['head line+ text'] = pre2['headline'].str.cat(pre2['text'],sep= \" \")"
      ],
      "execution_count": 138,
      "outputs": []
    },
    {
      "cell_type": "code",
      "metadata": {
        "id": "QY2wT2N_yhvC"
      },
      "source": [
        "pre = pd.DataFrame()\n",
        "pre['text'] = pd.concat([pre1['text'], pre2['text']], ignore_index=True)\n",
        "pre['summary'] = pd.concat([pre1['headline'],pre2['headline']],ignore_index = True)"
      ],
      "execution_count": 139,
      "outputs": []
    },
    {
      "cell_type": "code",
      "metadata": {
        "colab": {
          "base_uri": "https://localhost:8080/"
        },
        "id": "UxNqqOrHymxg",
        "outputId": "6f6bc1e8-e0d7-4d02-ceb6-ff24fa3f815d"
      },
      "source": [
        "pre['text'][:4]"
      ],
      "execution_count": 140,
      "outputs": [
        {
          "output_type": "execute_result",
          "data": {
            "text/plain": [
              "0    I need to buy best budget phone\n",
              "1    I need to buy best budget phone\n",
              "2    I need to buy best budget phone\n",
              "3    I need to buy best budget phone\n",
              "Name: text, dtype: object"
            ]
          },
          "metadata": {
            "tags": []
          },
          "execution_count": 140
        }
      ]
    },
    {
      "cell_type": "code",
      "metadata": {
        "id": "I27RmDScyu50"
      },
      "source": [
        "import re \n",
        "def text_strip(column):\n",
        "\n",
        "  for row in column:    \n",
        "    row=re.sub(\"(\\\\t)\", ' ', str(row)).lower() \n",
        "    row=re.sub(\"(\\\\r)\", ' ', str(row)).lower() \n",
        "    row=re.sub(\"(\\\\n)\", ' ', str(row)).lower()\n",
        "    \n",
        "    row=re.sub(\"(__+)\", ' ', str(row)).lower()   \n",
        "    row=re.sub(\"(--+)\", ' ', str(row)).lower()   \n",
        "    row=re.sub(\"(~~+)\", ' ', str(row)).lower()   \n",
        "    row=re.sub(\"(\\+\\++)\", ' ', str(row)).lower()   \n",
        "    row=re.sub(\"(\\.\\.+)\", ' ', str(row)).lower()  \n",
        "    \n",
        "    row=re.sub(r\"[<>()|&©ø\\[\\]\\'\\\",;?~*!]\", ' ', str(row)).lower() \n",
        "    \n",
        "    row=re.sub(\"(mailto:)\", ' ', str(row)).lower() \n",
        "    row=re.sub(r\"(\\\\x9\\d)\", ' ', str(row)).lower() \n",
        "    row=re.sub(\"([iI][nN][cC]\\d+)\", 'INC_NUM', str(row)).lower() \n",
        "    row=re.sub(\"([cC][mM]\\d+)|([cC][hH][gG]\\d+)\", 'CM_NUM', str(row)).lower() \n",
        "    \n",
        "    \n",
        "    row=re.sub(\"(\\.\\s+)\", ' ', str(row)).lower() \n",
        "    row=re.sub(\"(\\-\\s+)\", ' ', str(row)).lower() \n",
        "    row=re.sub(\"(\\:\\s+)\", ' ', str(row)).lower() \n",
        "    \n",
        "    row=re.sub(\"(\\s+.\\s+)\", ' ', str(row)).lower() \n",
        "\n",
        "    # to replace an url\n",
        "    try:\n",
        "        url = re.search(r'((https*:\\/*)([^\\/\\s]+))(.[^\\s]+)', str(row))\n",
        "        repl_url = url.group(3)\n",
        "        row = re.sub(r'((https*:\\/*)([^\\/\\s]+))(.[^\\s]+)',repl_url, str(row))\n",
        "    except:\n",
        "        pass\n",
        "    \n",
        "\n",
        "    \n",
        "    row = re.sub(\"(\\s+)\",' ',str(row)).lower() #remove multiple spaces\n",
        "    \n",
        "    row=re.sub(\"(\\s+.\\s+)\", ' ', str(row)).lower()\n",
        "\n",
        "    \n",
        "    \n",
        "    yield row"
      ],
      "execution_count": 141,
      "outputs": []
    },
    {
      "cell_type": "code",
      "metadata": {
        "id": "vK-ywFhcyyAo"
      },
      "source": [
        "brief_cleaning1 = text_strip(pre['text'])\n",
        "brief_cleaning2 = text_strip(pre['summary'])"
      ],
      "execution_count": 142,
      "outputs": []
    },
    {
      "cell_type": "code",
      "metadata": {
        "colab": {
          "base_uri": "https://localhost:8080/"
        },
        "id": "2e-gUeXxy2fd",
        "outputId": "a5623731-83b4-41f4-9338-711157e7495c"
      },
      "source": [
        "print(brief_cleaning1)"
      ],
      "execution_count": 143,
      "outputs": [
        {
          "output_type": "stream",
          "text": [
            "<generator object text_strip at 0x7f0b038147d0>\n"
          ],
          "name": "stdout"
        }
      ]
    },
    {
      "cell_type": "code",
      "metadata": {
        "colab": {
          "base_uri": "https://localhost:8080/"
        },
        "id": "K_GDOuEgy5XF",
        "outputId": "054298fe-cf19-47a4-c6aa-db9f618becb0"
      },
      "source": [
        "from time import time\n",
        "import spacy\n",
        "nlp = spacy.load('en', disable=['ner', 'parser']) \n",
        "\n",
        "t = time()\n",
        "#spacy has the pipe method to increase the speed of prepocessing\n",
        "#we need it because we are removing the urls and all the stuff from nearly 100k rows\n",
        "text = [str(doc) for doc in nlp.pipe(brief_cleaning1, batch_size=5000, n_threads=-1)]\n",
        "\n",
        "print('Time to clean up everything: {} mins'.format(round((time() - t) / 60, 2)))"
      ],
      "execution_count": 144,
      "outputs": [
        {
          "output_type": "stream",
          "text": [
            "Time to clean up everything: 0.0 mins\n"
          ],
          "name": "stdout"
        }
      ]
    },
    {
      "cell_type": "code",
      "metadata": {
        "colab": {
          "base_uri": "https://localhost:8080/"
        },
        "id": "fuG6fynNy8PK",
        "outputId": "ebf7f18a-6ad8-4564-9b78-e869ae6272aa"
      },
      "source": [
        "t = time()\n",
        "\n",
        "summary = ['SOS '+ str(doc) + ' EOS' for doc in nlp.pipe(brief_cleaning2, batch_size=5000, n_threads=-1)]\n",
        "print('Time to clean up everything: {} mins'.format(round((time() - t) / 60, 2)))"
      ],
      "execution_count": 145,
      "outputs": [
        {
          "output_type": "stream",
          "text": [
            "Time to clean up everything: 0.0 mins\n"
          ],
          "name": "stdout"
        }
      ]
    },
    {
      "cell_type": "code",
      "metadata": {
        "colab": {
          "base_uri": "https://localhost:8080/",
          "height": 35
        },
        "id": "42BJYpJMy-TT",
        "outputId": "08b0837f-aa25-44f1-e523-560dcdb753cf"
      },
      "source": [
        "text[0]"
      ],
      "execution_count": 146,
      "outputs": [
        {
          "output_type": "execute_result",
          "data": {
            "application/vnd.google.colaboratory.intrinsic+json": {
              "type": "string"
            },
            "text/plain": [
              "'i need to buy best budget phone'"
            ]
          },
          "metadata": {
            "tags": []
          },
          "execution_count": 146
        }
      ]
    },
    {
      "cell_type": "code",
      "metadata": {
        "colab": {
          "base_uri": "https://localhost:8080/",
          "height": 35
        },
        "id": "UxLuSJadzAlp",
        "outputId": "48692be9-d0b4-4216-b2cb-1a9efe17bf3e"
      },
      "source": [
        "summary[0]"
      ],
      "execution_count": 147,
      "outputs": [
        {
          "output_type": "execute_result",
          "data": {
            "application/vnd.google.colaboratory.intrinsic+json": {
              "type": "string"
            },
            "text/plain": [
              "'SOS buy best budget phone EOS'"
            ]
          },
          "metadata": {
            "tags": []
          },
          "execution_count": 147
        }
      ]
    },
    {
      "cell_type": "code",
      "metadata": {
        "id": "4cZdNh4WzFso"
      },
      "source": [
        "pre['cleaned_text'] = pd.Series(text)\n",
        "pre['cleaned_summary'] = pd.Series(summary)"
      ],
      "execution_count": 148,
      "outputs": []
    },
    {
      "cell_type": "code",
      "metadata": {
        "id": "_lpqdNJdzG2L"
      },
      "source": [
        "text_count = []\n",
        "summary_count = []\n",
        "\n",
        "for sent in pre['cleaned_text']:\n",
        "    text_count.append(len(sent.split()))\n",
        "for sent in pre['cleaned_summary']:\n",
        "    summary_count.append(len(sent.split()))\n",
        "\n",
        "graph_df= pd.DataFrame()\n",
        "graph_df['text']=text_count\n",
        "graph_df['summary']=summary_count"
      ],
      "execution_count": 149,
      "outputs": []
    },
    {
      "cell_type": "code",
      "metadata": {
        "colab": {
          "base_uri": "https://localhost:8080/"
        },
        "id": "zlwZupMbzPjp",
        "outputId": "6758c273-f899-4fde-cfa9-95cd1f87abc3"
      },
      "source": [
        "#Check how much % of summary have 0-15 words\n",
        "cnt=0\n",
        "for i in pre['cleaned_summary']:\n",
        "    if(len(i.split())<=15):\n",
        "        cnt=cnt+1\n",
        "print(cnt/len(pre['cleaned_summary']))"
      ],
      "execution_count": 150,
      "outputs": [
        {
          "output_type": "stream",
          "text": [
            "1.0\n"
          ],
          "name": "stdout"
        }
      ]
    },
    {
      "cell_type": "code",
      "metadata": {
        "colab": {
          "base_uri": "https://localhost:8080/"
        },
        "id": "0fRpbUH1zT55",
        "outputId": "fc88ebce-69a4-4a7b-b14d-ed65fb97965c"
      },
      "source": [
        "#Check how much % of text have 0-60 words\n",
        "cnt=0\n",
        "for i in pre['cleaned_text']:\n",
        "    if(len(i.split())<=60):\n",
        "        cnt=cnt+1\n",
        "print(cnt/len(pre['cleaned_text']))"
      ],
      "execution_count": 151,
      "outputs": [
        {
          "output_type": "stream",
          "text": [
            "1.0\n"
          ],
          "name": "stdout"
        }
      ]
    },
    {
      "cell_type": "code",
      "metadata": {
        "id": "YW_UQRTzzXYR"
      },
      "source": [
        "max_text_len=65\n",
        "max_summary_len=15\n",
        "\n",
        "cleaned_text =np.array(pre['cleaned_text'])\n",
        "cleaned_summary=np.array(pre['cleaned_summary'])\n",
        "\n",
        "short_text=[]\n",
        "short_summary=[]\n",
        "\n",
        "for i in range(len(cleaned_text)):\n",
        "    if(len(cleaned_summary[i].split())<=max_summary_len and len(cleaned_text[i].split())<=max_text_len):\n",
        "        short_text.append(cleaned_text[i])\n",
        "        short_summary.append(cleaned_summary[i])\n",
        "        \n",
        "post_pre=pd.DataFrame({'text':short_text,'summary':short_summary})"
      ],
      "execution_count": 152,
      "outputs": []
    },
    {
      "cell_type": "code",
      "metadata": {
        "colab": {
          "base_uri": "https://localhost:8080/",
          "height": 110
        },
        "id": "sE80GFANzdUe",
        "outputId": "154f9e14-527f-4487-967f-dd5f0409e6d4"
      },
      "source": [
        "post_pre.head(2)"
      ],
      "execution_count": 153,
      "outputs": [
        {
          "output_type": "execute_result",
          "data": {
            "text/html": [
              "<div>\n",
              "<style scoped>\n",
              "    .dataframe tbody tr th:only-of-type {\n",
              "        vertical-align: middle;\n",
              "    }\n",
              "\n",
              "    .dataframe tbody tr th {\n",
              "        vertical-align: top;\n",
              "    }\n",
              "\n",
              "    .dataframe thead th {\n",
              "        text-align: right;\n",
              "    }\n",
              "</style>\n",
              "<table border=\"1\" class=\"dataframe\">\n",
              "  <thead>\n",
              "    <tr style=\"text-align: right;\">\n",
              "      <th></th>\n",
              "      <th>text</th>\n",
              "      <th>summary</th>\n",
              "    </tr>\n",
              "  </thead>\n",
              "  <tbody>\n",
              "    <tr>\n",
              "      <th>0</th>\n",
              "      <td>i need to buy best budget phone</td>\n",
              "      <td>SOS buy best budget phone EOS</td>\n",
              "    </tr>\n",
              "    <tr>\n",
              "      <th>1</th>\n",
              "      <td>i need to buy best budget phone</td>\n",
              "      <td>SOS buy best budget phone EOS</td>\n",
              "    </tr>\n",
              "  </tbody>\n",
              "</table>\n",
              "</div>"
            ],
            "text/plain": [
              "                              text                        summary\n",
              "0  i need to buy best budget phone  SOS buy best budget phone EOS\n",
              "1  i need to buy best budget phone  SOS buy best budget phone EOS"
            ]
          },
          "metadata": {
            "tags": []
          },
          "execution_count": 153
        }
      ]
    },
    {
      "cell_type": "code",
      "metadata": {
        "id": "3Rnuw50uzgKl"
      },
      "source": [
        "post_pre['summary'] = post_pre['summary'].apply(lambda x : 'sostok '+ x + ' eostok')"
      ],
      "execution_count": 154,
      "outputs": []
    },
    {
      "cell_type": "code",
      "metadata": {
        "id": "Y3_-70NNzihP"
      },
      "source": [
        "from sklearn.model_selection import train_test_split\n",
        "x_tr,x_val,y_tr,y_val=train_test_split(np.array(post_pre['text']),np.array(post_pre['summary']),test_size=0.1,random_state=0,shuffle=True)"
      ],
      "execution_count": 155,
      "outputs": []
    },
    {
      "cell_type": "code",
      "metadata": {
        "id": "uJ4LJRF6zlzE"
      },
      "source": [
        "from keras.preprocessing.text import Tokenizer \n",
        "from keras.preprocessing.sequence import pad_sequences\n",
        "\n",
        "x_tokenizer = Tokenizer() \n",
        "x_tokenizer.fit_on_texts(list(x_tr))"
      ],
      "execution_count": 156,
      "outputs": []
    },
    {
      "cell_type": "code",
      "metadata": {
        "colab": {
          "base_uri": "https://localhost:8080/"
        },
        "id": "wZyJ8GZwzoMP",
        "outputId": "84bb20d4-efc9-47c3-9f3d-2ab1a319e392"
      },
      "source": [
        "thresh_hold=4\n",
        "\n",
        "cnt=0\n",
        "tot_cnt=0\n",
        "freq=0\n",
        "tot_freq=0\n",
        "\n",
        "for key,value in x_tokenizer.word_counts.items():\n",
        "    tot_cnt=tot_cnt+1\n",
        "    tot_freq=tot_freq+value\n",
        "    if(value<thresh_hold):\n",
        "        cnt=cnt+1\n",
        "        freq=freq+value\n",
        "    \n",
        "print(\"% of rare words in vocabulary:\",(cnt/tot_cnt)*100)\n",
        "print(\"Total Coverage of rare words:\",(freq/tot_freq)*100)"
      ],
      "execution_count": 157,
      "outputs": [
        {
          "output_type": "stream",
          "text": [
            "% of rare words in vocabulary: 0.0\n",
            "Total Coverage of rare words: 0.0\n"
          ],
          "name": "stdout"
        }
      ]
    },
    {
      "cell_type": "code",
      "metadata": {
        "colab": {
          "base_uri": "https://localhost:8080/"
        },
        "id": "oREdWDKmzrR6",
        "outputId": "b76535ae-2b26-437c-8c25-72fdb949ccb3"
      },
      "source": [
        "x_tokenizer = Tokenizer(num_words=tot_cnt-cnt) \n",
        "x_tokenizer.fit_on_texts(list(x_tr))\n",
        "\n",
        "#convert text sequences into integer sequences (i.e one-hot encodeing all the words)\n",
        "x_tr_seq    =   x_tokenizer.texts_to_sequences(x_tr) \n",
        "x_val_seq   =   x_tokenizer.texts_to_sequences(x_val)\n",
        "\n",
        "#padding zero upto maximum length\n",
        "x_tr    =   pad_sequences(x_tr_seq,  maxlen=max_text_len, padding='post')\n",
        "x_val   =   pad_sequences(x_val_seq, maxlen=max_text_len, padding='post')\n",
        "\n",
        "#size of vocabulary ( +1 for padding token)\n",
        "x_voc   =  x_tokenizer.num_words + 1\n",
        "\n",
        "print(\"Size of vocabulary in X = {}\".format(x_voc))"
      ],
      "execution_count": 158,
      "outputs": [
        {
          "output_type": "stream",
          "text": [
            "Size of vocabulary in X = 8\n"
          ],
          "name": "stdout"
        }
      ]
    },
    {
      "cell_type": "code",
      "metadata": {
        "id": "TISHq3Bxzton"
      },
      "source": [
        "y_tokenizer = Tokenizer()   \n",
        "y_tokenizer.fit_on_texts(list(y_tr))"
      ],
      "execution_count": 159,
      "outputs": []
    },
    {
      "cell_type": "code",
      "metadata": {
        "colab": {
          "base_uri": "https://localhost:8080/"
        },
        "id": "iXwF8CxczxKn",
        "outputId": "15595387-6534-427a-d123-34c22ec7d6e5"
      },
      "source": [
        "thresh_hold=6\n",
        "\n",
        "cnt=0\n",
        "tot_cnt=0\n",
        "freq=0\n",
        "tot_freq=0\n",
        "\n",
        "for key,value in y_tokenizer.word_counts.items():\n",
        "    tot_cnt=tot_cnt+1\n",
        "    tot_freq=tot_freq+value\n",
        "    if(value<thresh_hold):\n",
        "        cnt=cnt+1\n",
        "        freq=freq+value\n",
        "    \n",
        "print(\"% of rare words in vocabulary:\",(cnt/tot_cnt)*100)\n",
        "print(\"Total Coverage of rare words:\",(freq/tot_freq)*100)"
      ],
      "execution_count": 160,
      "outputs": [
        {
          "output_type": "stream",
          "text": [
            "% of rare words in vocabulary: 0.0\n",
            "Total Coverage of rare words: 0.0\n"
          ],
          "name": "stdout"
        }
      ]
    },
    {
      "cell_type": "code",
      "metadata": {
        "colab": {
          "base_uri": "https://localhost:8080/"
        },
        "id": "G0G4Cvhzzy28",
        "outputId": "7ad1202e-301d-4cc6-928a-15177d7b485a"
      },
      "source": [
        "y_tokenizer = Tokenizer(num_words=tot_cnt-cnt) \n",
        "y_tokenizer.fit_on_texts(list(y_tr))\n",
        "\n",
        "#convert text sequences into integer sequences (i.e one hot encode the text in Y)\n",
        "y_tr_seq    =   y_tokenizer.texts_to_sequences(y_tr) \n",
        "y_val_seq   =   y_tokenizer.texts_to_sequences(y_val) \n",
        "\n",
        "#padding zero upto maximum length\n",
        "y_tr    =   pad_sequences(y_tr_seq, maxlen=max_summary_len, padding='post')\n",
        "y_val   =   pad_sequences(y_val_seq, maxlen=max_summary_len, padding='post')\n",
        "\n",
        "#size of vocabulary\n",
        "y_voc  =   y_tokenizer.num_words +1\n",
        "print(\"Size of vocabulary in Y = {}\".format(y_voc))"
      ],
      "execution_count": 161,
      "outputs": [
        {
          "output_type": "stream",
          "text": [
            "Size of vocabulary in Y = 9\n"
          ],
          "name": "stdout"
        }
      ]
    },
    {
      "cell_type": "code",
      "metadata": {
        "id": "iME-FF6pz5lF"
      },
      "source": [
        "ind=[]\n",
        "for i in range(len(y_tr)):\n",
        "    cnt=0\n",
        "    for j in y_tr[i]:\n",
        "        if j!=0:\n",
        "            cnt=cnt+1\n",
        "    if(cnt==2):\n",
        "        ind.append(i)\n",
        "\n",
        "y_tr=np.delete(y_tr,ind, axis=0)\n",
        "x_tr=np.delete(x_tr,ind, axis=0)"
      ],
      "execution_count": 162,
      "outputs": []
    },
    {
      "cell_type": "code",
      "metadata": {
        "id": "y6j0sxDwz8ju"
      },
      "source": [
        "ind=[]\n",
        "for i in range(len(y_val)):\n",
        "    cnt=0\n",
        "    for j in y_val[i]:\n",
        "        if j!=0:\n",
        "            cnt=cnt+1\n",
        "    if(cnt==2):\n",
        "        ind.append(i)\n",
        "\n",
        "y_val=np.delete(y_val,ind, axis=0)\n",
        "x_val=np.delete(x_val,ind, axis=0)"
      ],
      "execution_count": 163,
      "outputs": []
    },
    {
      "cell_type": "code",
      "metadata": {
        "colab": {
          "base_uri": "https://localhost:8080/"
        },
        "id": "zlmUW5bz0Dhz",
        "outputId": "e5134cac-1912-420b-e7d1-17ce6c69f3bf"
      },
      "source": [
        "from keras import backend as K \n",
        "import gensim\n",
        "from numpy import *\n",
        "import numpy as np\n",
        "import pandas as pd \n",
        "import re\n",
        "from bs4 import BeautifulSoup\n",
        "from keras.preprocessing.text import Tokenizer \n",
        "from keras.preprocessing.sequence import pad_sequences\n",
        "from nltk.corpus import stopwords\n",
        "from tensorflow.keras.layers import Input, LSTM, Embedding, Dense, Concatenate, TimeDistributed\n",
        "from tensorflow.keras.models import Model\n",
        "from tensorflow.keras.callbacks import EarlyStopping\n",
        "import warnings\n",
        "pd.set_option(\"display.max_colwidth\", 200)\n",
        "warnings.filterwarnings(\"ignore\")\n",
        "\n",
        "print(\"Size of vocabulary from the w2v model = {}\".format(x_voc))\n",
        "\n",
        "K.clear_session()\n",
        "\n",
        "latent_dim = 300\n",
        "embedding_dim=200\n",
        "\n",
        "# Encoder\n",
        "encoder_inputs = Input(shape=(max_text_len,))\n",
        "\n",
        "#embedding layer\n",
        "enc_emb =  Embedding(x_voc, embedding_dim,trainable=True)(encoder_inputs)\n",
        "\n",
        "#encoder lstm 1\n",
        "encoder_lstm1 = LSTM(latent_dim,return_sequences=True,return_state=True,dropout=0.4,recurrent_dropout=0.4)\n",
        "encoder_output1, state_h1, state_c1 = encoder_lstm1(enc_emb)\n",
        "\n",
        "#encoder lstm 2\n",
        "encoder_lstm2 = LSTM(latent_dim,return_sequences=True,return_state=True,dropout=0.4,recurrent_dropout=0.4)\n",
        "encoder_output2, state_h2, state_c2 = encoder_lstm2(encoder_output1)\n",
        "\n",
        "#encoder lstm 3\n",
        "encoder_lstm3=LSTM(latent_dim, return_state=True, return_sequences=True,dropout=0.4,recurrent_dropout=0.4)\n",
        "encoder_outputs, state_h, state_c= encoder_lstm3(encoder_output2)\n",
        "\n",
        "# Set up the decoder, using `encoder_states` as initial state.\n",
        "decoder_inputs = Input(shape=(None,))\n",
        "\n",
        "#embedding layer\n",
        "dec_emb_layer = Embedding(y_voc, embedding_dim,trainable=True)\n",
        "dec_emb = dec_emb_layer(decoder_inputs)\n",
        "\n",
        "decoder_lstm = LSTM(latent_dim, return_sequences=True, return_state=True,dropout=0.4,recurrent_dropout=0.2)\n",
        "decoder_outputs,decoder_fwd_state, decoder_back_state = decoder_lstm(dec_emb,initial_state=[state_h, state_c])\n",
        "\n",
        "#dense layer\n",
        "decoder_dense =  TimeDistributed(Dense(y_voc, activation='softmax'))\n",
        "decoder_outputs = decoder_dense(decoder_outputs)\n",
        "\n",
        "# Define the model \n",
        "model = Model([encoder_inputs, decoder_inputs], decoder_outputs)\n",
        "\n",
        "model.summary()"
      ],
      "execution_count": 164,
      "outputs": [
        {
          "output_type": "stream",
          "text": [
            "Size of vocabulary from the w2v model = 8\n",
            "Model: \"model\"\n",
            "__________________________________________________________________________________________________\n",
            "Layer (type)                    Output Shape         Param #     Connected to                     \n",
            "==================================================================================================\n",
            "input_11 (InputLayer)           [(None, 65)]         0                                            \n",
            "__________________________________________________________________________________________________\n",
            "embedding (Embedding)           (None, 65, 200)      1600        input_11[0][0]                   \n",
            "__________________________________________________________________________________________________\n",
            "lstm (LSTM)                     [(None, 65, 300), (N 601200      embedding[0][0]                  \n",
            "__________________________________________________________________________________________________\n",
            "input_12 (InputLayer)           [(None, None)]       0                                            \n",
            "__________________________________________________________________________________________________\n",
            "lstm_1 (LSTM)                   [(None, 65, 300), (N 721200      lstm[0][0]                       \n",
            "__________________________________________________________________________________________________\n",
            "embedding_1 (Embedding)         (None, None, 200)    1800        input_12[0][0]                   \n",
            "__________________________________________________________________________________________________\n",
            "lstm_2 (LSTM)                   [(None, 65, 300), (N 721200      lstm_1[0][0]                     \n",
            "__________________________________________________________________________________________________\n",
            "lstm_3 (LSTM)                   [(None, None, 300),  601200      embedding_1[0][0]                \n",
            "                                                                 lstm_2[0][1]                     \n",
            "                                                                 lstm_2[0][2]                     \n",
            "__________________________________________________________________________________________________\n",
            "time_distributed (TimeDistribut (None, None, 9)      2709        lstm_3[0][0]                     \n",
            "==================================================================================================\n",
            "Total params: 2,650,909\n",
            "Trainable params: 2,650,909\n",
            "Non-trainable params: 0\n",
            "__________________________________________________________________________________________________\n"
          ],
          "name": "stdout"
        }
      ]
    },
    {
      "cell_type": "code",
      "metadata": {
        "id": "03QjadT40FHU"
      },
      "source": [
        "model.compile(optimizer='rmsprop', loss='sparse_categorical_crossentropy')\n",
        "es = EarlyStopping(monitor='val_loss', mode='min', verbose=1,patience=2)"
      ],
      "execution_count": 165,
      "outputs": []
    },
    {
      "cell_type": "code",
      "metadata": {
        "colab": {
          "base_uri": "https://localhost:8080/"
        },
        "id": "LsY413a-0Iwt",
        "outputId": "c11f9af5-8f1e-4c32-dc6b-65196c2d9789"
      },
      "source": [
        "history=model.fit([x_tr,y_tr[:,:-1]], y_tr.reshape(y_tr.shape[0],y_tr.shape[1], 1)[:,1:] ,epochs=50,callbacks=[es],batch_size=128, validation_data=([x_val,y_val[:,:-1]], y_val.reshape(y_val.shape[0],y_val.shape[1], 1)[:,1:]))"
      ],
      "execution_count": 166,
      "outputs": [
        {
          "output_type": "stream",
          "text": [
            "Epoch 1/50\n",
            "1/1 [==============================] - 13s 13s/step - loss: 2.1918 - val_loss: 1.9339\n",
            "Epoch 2/50\n",
            "1/1 [==============================] - 3s 3s/step - loss: 1.9358 - val_loss: 1.2860\n",
            "Epoch 3/50\n",
            "1/1 [==============================] - 3s 3s/step - loss: 1.2969 - val_loss: 3.2405\n",
            "Epoch 4/50\n",
            "1/1 [==============================] - 3s 3s/step - loss: 3.1613 - val_loss: 0.8359\n",
            "Epoch 5/50\n",
            "1/1 [==============================] - 3s 3s/step - loss: 0.8466 - val_loss: 0.7215\n",
            "Epoch 6/50\n",
            "1/1 [==============================] - 3s 3s/step - loss: 0.7230 - val_loss: 0.6345\n",
            "Epoch 7/50\n",
            "1/1 [==============================] - 3s 3s/step - loss: 0.6454 - val_loss: 0.6129\n",
            "Epoch 8/50\n",
            "1/1 [==============================] - 3s 3s/step - loss: 0.6069 - val_loss: 0.5993\n",
            "Epoch 9/50\n",
            "1/1 [==============================] - 3s 3s/step - loss: 0.6211 - val_loss: 0.6247\n",
            "Epoch 10/50\n",
            "1/1 [==============================] - 3s 3s/step - loss: 0.6064 - val_loss: 0.5755\n",
            "Epoch 11/50\n",
            "1/1 [==============================] - 3s 3s/step - loss: 0.5979 - val_loss: 0.5233\n",
            "Epoch 12/50\n",
            "1/1 [==============================] - 3s 3s/step - loss: 0.5133 - val_loss: 0.4465\n",
            "Epoch 13/50\n",
            "1/1 [==============================] - 3s 3s/step - loss: 0.4668 - val_loss: 0.4315\n",
            "Epoch 14/50\n",
            "1/1 [==============================] - 3s 3s/step - loss: 0.4219 - val_loss: 0.4099\n",
            "Epoch 15/50\n",
            "1/1 [==============================] - 3s 3s/step - loss: 0.4299 - val_loss: 0.4194\n",
            "Epoch 16/50\n",
            "1/1 [==============================] - 3s 3s/step - loss: 0.4021 - val_loss: 0.4096\n",
            "Epoch 17/50\n",
            "1/1 [==============================] - 3s 3s/step - loss: 0.4301 - val_loss: 0.3616\n",
            "Epoch 18/50\n",
            "1/1 [==============================] - 3s 3s/step - loss: 0.3493 - val_loss: 0.3138\n",
            "Epoch 19/50\n",
            "1/1 [==============================] - 3s 3s/step - loss: 0.3331 - val_loss: 0.3125\n",
            "Epoch 20/50\n",
            "1/1 [==============================] - 3s 3s/step - loss: 0.2974 - val_loss: 0.2819\n",
            "Epoch 21/50\n",
            "1/1 [==============================] - 3s 3s/step - loss: 0.3008 - val_loss: 0.2957\n",
            "Epoch 22/50\n",
            "1/1 [==============================] - 3s 3s/step - loss: 0.2837 - val_loss: 0.2908\n",
            "Epoch 00022: early stopping\n"
          ],
          "name": "stdout"
        }
      ]
    },
    {
      "cell_type": "code",
      "metadata": {
        "id": "sZbKVsqf0YQJ"
      },
      "source": [
        "reverse_target_word_index=y_tokenizer.index_word\n",
        "reverse_source_word_index=x_tokenizer.index_word\n",
        "target_word_index=y_tokenizer.word_index\n",
        "source_word_index=x_tokenizer.word_index"
      ],
      "execution_count": 167,
      "outputs": []
    },
    {
      "cell_type": "code",
      "metadata": {
        "id": "OOQ5YLXw0ZgJ"
      },
      "source": [
        "encoder_model = Model(inputs=encoder_inputs,outputs=[encoder_outputs, state_h, state_c])\n",
        "\n",
        "decoder_state_input_h = Input(shape=(latent_dim,))\n",
        "decoder_state_input_c = Input(shape=(latent_dim,))\n",
        "decoder_hidden_state_input = Input(shape=(max_text_len,latent_dim))\n",
        "\n",
        "dec_emb2= dec_emb_layer(decoder_inputs) \n",
        "decoder_outputs2, state_h2, state_c2 = decoder_lstm(dec_emb2, initial_state=[decoder_state_input_h, decoder_state_input_c])\n",
        "\n",
        "decoder_outputs2 = decoder_dense(decoder_outputs2) \n",
        "\n",
        "decoder_model = Model(\n",
        "    [decoder_inputs] + [decoder_hidden_state_input,decoder_state_input_h, decoder_state_input_c],\n",
        "    [decoder_outputs2] + [state_h2, state_c2])"
      ],
      "execution_count": 168,
      "outputs": []
    },
    {
      "cell_type": "code",
      "metadata": {
        "id": "H5kuES660cMT"
      },
      "source": [
        "def decode_sequence(input_seq):\n",
        "    e_out, e_h, e_c = encoder_model.predict(input_seq)\n",
        "\n",
        "    target_seq = np.zeros((1,1))\n",
        "    \n",
        "    target_seq[0, 0] = target_word_index['sostok']\n",
        "\n",
        "    stop_condition = False\n",
        "    decoded_sentence = ''\n",
        "    while not stop_condition:\n",
        "      \n",
        "      output_tokens, h, c = decoder_model.predict([target_seq] + [e_out, e_h, e_c])\n",
        "\n",
        "      sampled_token_index = np.argmax(output_tokens[0, -1, :])\n",
        "\n",
        "      if(sampled_token_index != 0):\n",
        "        sampled_token = reverse_target_word_index[sampled_token_index]\n",
        "        decoded_sentence += ' '+sampled_token\n",
        "      else:\n",
        "        sampled_token = 'eostok'\n",
        "\n",
        "      if (sampled_token == 'eostok'  or len(decoded_sentence.split()) >= (max_summary_len-1)):\n",
        "          stop_condition = True\n",
        "\n",
        "      target_seq = np.zeros((1,1))\n",
        "      target_seq[0, 0] = sampled_token_index\n",
        "\n",
        "      e_h, e_c = h, c\n",
        "\n",
        "    return decoded_sentence"
      ],
      "execution_count": 169,
      "outputs": []
    },
    {
      "cell_type": "code",
      "metadata": {
        "id": "AO9XoMNN0g0S"
      },
      "source": [
        "def seq2summary(input_seq):\n",
        "    newString=''\n",
        "    for i in input_seq:\n",
        "        if((i!=0 and i!=target_word_index['sostok']) and i!=target_word_index['eostok']):\n",
        "            newString=newString+reverse_target_word_index[i]+' '\n",
        "    return newString\n",
        "\n",
        "def seq2text(input_seq):\n",
        "    newString=''\n",
        "    for i in input_seq:\n",
        "        if(i!=0):\n",
        "            newString=newString+reverse_source_word_index[i]+' '\n",
        "    return newString"
      ],
      "execution_count": 170,
      "outputs": []
    },
    {
      "cell_type": "code",
      "metadata": {
        "id": "cXwWXfIL0jHc"
      },
      "source": [
        "sentence = input('Enter the sentence ')\n",
        "sentenceList = []\n",
        "index = 0\n",
        "for i in range(0,65):\n",
        "  sentenceList.append(0)\n",
        "for word in sentence.split(\" \"):\n",
        "  sentenceList[index] = source_word_index[word]\n",
        "  index = index + 1\n",
        "sentenceListAppend = []\n",
        "sentenceListAppend.append(sentenceList)\n",
        "print(sentenceListAppend)\n",
        "print(\"Summary: \", decode_sequence(sentenceListAppend))"
      ],
      "execution_count": null,
      "outputs": []
    }
  ]
}